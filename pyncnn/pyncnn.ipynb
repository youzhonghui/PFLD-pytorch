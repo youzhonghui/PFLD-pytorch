{
 "cells": [
  {
   "cell_type": "code",
   "execution_count": null,
   "metadata": {},
   "outputs": [],
   "source": [
    "# 这个repo模型被我修改过"
   ]
  },
  {
   "cell_type": "code",
   "execution_count": 1,
   "metadata": {},
   "outputs": [
    {
     "name": "stdout",
     "output_type": "stream",
     "text": [
      "Change dir from /workspace/PFLD-pytorch to /workspace/PFLD-pytorch\n"
     ]
    }
   ],
   "source": [
    "import os\n",
    "import sys\n",
    "\n",
    "_r = os.getcwd().split('/')\n",
    "_p = '/'.join(_r[:_r.index('PFLD-pytorch')+1])\n",
    "print('Change dir from %s to %s' % (os.getcwd(), _p))\n",
    "os.chdir(_p)\n",
    "sys.path.append(_p)"
   ]
  },
  {
   "cell_type": "code",
   "execution_count": 2,
   "metadata": {},
   "outputs": [],
   "source": [
    "import argparse\n",
    "import time\n",
    "\n",
    "import numpy as np\n",
    "import torch\n",
    "import torchvision\n",
    "from torchvision import transforms\n",
    "import cv2\n",
    "\n",
    "from models.pfld import PFLDInference, AuxiliaryNet\n",
    "from mtcnn.detector import detect_faces, show_bboxes\n",
    "\n",
    "device = torch.device(\"cuda\" if torch.cuda.is_available() else \"cpu\")"
   ]
  },
  {
   "cell_type": "code",
   "execution_count": 3,
   "metadata": {},
   "outputs": [],
   "source": [
    "from matplotlib import pyplot as plt\n",
    "import cv2\n",
    "\n",
    "img = cv2.imread('./pyncnn/test.jpeg')\n",
    "# img = cv2.cvtColor(img, cv2.COLOR_BGR2RGB)\n",
    "\n",
    "# plt.imshow(img)\n",
    "# plt.title('my picture')\n",
    "# plt.show()"
   ]
  },
  {
   "cell_type": "code",
   "execution_count": 4,
   "metadata": {},
   "outputs": [
    {
     "ename": "RuntimeError",
     "evalue": "Error(s) in loading state_dict for PFLDInference:\n\tMissing key(s) in state_dict: \"conv2_dw.0.weight\", \"conv2_dw.1.weight\", \"conv2_dw.1.bias\", \"conv2_dw.1.running_mean\", \"conv2_dw.1.running_var\", \"conv2_dw.3.weight\", \"conv2_dw.4.weight\", \"conv2_dw.4.bias\", \"conv2_dw.4.running_mean\", \"conv2_dw.4.running_var\". \n\tUnexpected key(s) in state_dict: \"conv2.weight\", \"bn2.weight\", \"bn2.bias\", \"bn2.running_mean\", \"bn2.running_var\", \"bn2.num_batches_tracked\". ",
     "output_type": "error",
     "traceback": [
      "\u001b[0;31m---------------------------------------------------------------------------\u001b[0m",
      "\u001b[0;31mRuntimeError\u001b[0m                              Traceback (most recent call last)",
      "\u001b[0;32m<ipython-input-4-167bfb178fa1>\u001b[0m in \u001b[0;36m<module>\u001b[0;34m\u001b[0m\n\u001b[1;32m      2\u001b[0m \u001b[0mcheckpoint\u001b[0m \u001b[0;34m=\u001b[0m \u001b[0mtorch\u001b[0m\u001b[0;34m.\u001b[0m\u001b[0mload\u001b[0m\u001b[0;34m(\u001b[0m\u001b[0mmodel_path\u001b[0m\u001b[0;34m,\u001b[0m \u001b[0mmap_location\u001b[0m\u001b[0;34m=\u001b[0m\u001b[0mdevice\u001b[0m\u001b[0;34m)\u001b[0m\u001b[0;34m\u001b[0m\u001b[0;34m\u001b[0m\u001b[0m\n\u001b[1;32m      3\u001b[0m \u001b[0mplfd_backbone\u001b[0m \u001b[0;34m=\u001b[0m \u001b[0mPFLDInference\u001b[0m\u001b[0;34m(\u001b[0m\u001b[0mr\u001b[0m\u001b[0;34m=\u001b[0m\u001b[0;36m1\u001b[0m\u001b[0;34m)\u001b[0m\u001b[0;34m.\u001b[0m\u001b[0mto\u001b[0m\u001b[0;34m(\u001b[0m\u001b[0mdevice\u001b[0m\u001b[0;34m)\u001b[0m\u001b[0;34m\u001b[0m\u001b[0;34m\u001b[0m\u001b[0m\n\u001b[0;32m----> 4\u001b[0;31m \u001b[0mplfd_backbone\u001b[0m\u001b[0;34m.\u001b[0m\u001b[0mload_state_dict\u001b[0m\u001b[0;34m(\u001b[0m\u001b[0mcheckpoint\u001b[0m\u001b[0;34m[\u001b[0m\u001b[0;34m'plfd_backbone'\u001b[0m\u001b[0;34m]\u001b[0m\u001b[0;34m)\u001b[0m\u001b[0;34m\u001b[0m\u001b[0;34m\u001b[0m\u001b[0m\n\u001b[0m\u001b[1;32m      5\u001b[0m \u001b[0mplfd_backbone\u001b[0m\u001b[0;34m.\u001b[0m\u001b[0meval\u001b[0m\u001b[0;34m(\u001b[0m\u001b[0;34m)\u001b[0m\u001b[0;34m\u001b[0m\u001b[0;34m\u001b[0m\u001b[0m\n\u001b[1;32m      6\u001b[0m \u001b[0mplfd_backbone\u001b[0m \u001b[0;34m=\u001b[0m \u001b[0mplfd_backbone\u001b[0m\u001b[0;34m.\u001b[0m\u001b[0mto\u001b[0m\u001b[0;34m(\u001b[0m\u001b[0mdevice\u001b[0m\u001b[0;34m)\u001b[0m\u001b[0;34m\u001b[0m\u001b[0;34m\u001b[0m\u001b[0m\n",
      "\u001b[0;32m/opt/conda/lib/python3.7/site-packages/torch/nn/modules/module.py\u001b[0m in \u001b[0;36mload_state_dict\u001b[0;34m(self, state_dict, strict)\u001b[0m\n\u001b[1;32m    828\u001b[0m         \u001b[0;32mif\u001b[0m \u001b[0mlen\u001b[0m\u001b[0;34m(\u001b[0m\u001b[0merror_msgs\u001b[0m\u001b[0;34m)\u001b[0m \u001b[0;34m>\u001b[0m \u001b[0;36m0\u001b[0m\u001b[0;34m:\u001b[0m\u001b[0;34m\u001b[0m\u001b[0;34m\u001b[0m\u001b[0m\n\u001b[1;32m    829\u001b[0m             raise RuntimeError('Error(s) in loading state_dict for {}:\\n\\t{}'.format(\n\u001b[0;32m--> 830\u001b[0;31m                                self.__class__.__name__, \"\\n\\t\".join(error_msgs)))\n\u001b[0m\u001b[1;32m    831\u001b[0m         \u001b[0;32mreturn\u001b[0m \u001b[0m_IncompatibleKeys\u001b[0m\u001b[0;34m(\u001b[0m\u001b[0mmissing_keys\u001b[0m\u001b[0;34m,\u001b[0m \u001b[0munexpected_keys\u001b[0m\u001b[0;34m)\u001b[0m\u001b[0;34m\u001b[0m\u001b[0;34m\u001b[0m\u001b[0m\n\u001b[1;32m    832\u001b[0m \u001b[0;34m\u001b[0m\u001b[0m\n",
      "\u001b[0;31mRuntimeError\u001b[0m: Error(s) in loading state_dict for PFLDInference:\n\tMissing key(s) in state_dict: \"conv2_dw.0.weight\", \"conv2_dw.1.weight\", \"conv2_dw.1.bias\", \"conv2_dw.1.running_mean\", \"conv2_dw.1.running_var\", \"conv2_dw.3.weight\", \"conv2_dw.4.weight\", \"conv2_dw.4.bias\", \"conv2_dw.4.running_mean\", \"conv2_dw.4.running_var\". \n\tUnexpected key(s) in state_dict: \"conv2.weight\", \"bn2.weight\", \"bn2.bias\", \"bn2.running_mean\", \"bn2.running_var\", \"bn2.num_batches_tracked\". "
     ]
    }
   ],
   "source": [
    "model_path = './checkpoint/snapshot/checkpoint.pth.tar'\n",
    "checkpoint = torch.load(model_path, map_location=device)\n",
    "plfd_backbone = PFLDInference().to(device)\n",
    "plfd_backbone.load_state_dict(checkpoint['plfd_backbone'])\n",
    "plfd_backbone.eval()\n",
    "plfd_backbone = plfd_backbone.to(device)\n",
    "transform = transforms.Compose([transforms.ToTensor()])\n",
    "\n",
    "height, width = img.shape[:2]\n",
    "bounding_boxes, landmarks = detect_faces(img)\n",
    "for box in bounding_boxes:\n",
    "    score = box[4]\n",
    "    x1, y1, x2, y2 = (box[:4]+0.5).astype(np.int32)\n",
    "    w = x2 - x1 + 1\n",
    "    h = y2 - y1 + 1\n",
    "\n",
    "    size = int(max([w, h])*1.1)\n",
    "    cx = x1 + w//2\n",
    "    cy = y1 + h//2\n",
    "    x1 = cx - size//2\n",
    "    x2 = x1 + size\n",
    "    y1 = cy - size//2\n",
    "    y2 = y1 + size\n",
    "\n",
    "    dx = max(0, -x1)\n",
    "    dy = max(0, -y1)\n",
    "    x1 = max(0, x1)\n",
    "    y1 = max(0, y1)\n",
    "\n",
    "    edx = max(0, x2 - width)\n",
    "    edy = max(0, y2 - height)\n",
    "    x2 = min(width, x2)\n",
    "    y2 = min(height, y2)\n",
    "    cropped = img[y1:y2, x1:x2]\n",
    "    if (dx > 0 or dy > 0 or edx > 0 or edy > 0):\n",
    "        cropped = cv2.copyMakeBorder(cropped, dy, edy, dx, edx, cv2.BORDER_CONSTANT, 0)\n",
    "\n",
    "    cropped = cv2.resize(cropped, (112, 112))\n",
    "\n",
    "    input = cv2.resize(cropped, (112, 112))\n",
    "    input = cv2.cvtColor(input, cv2.COLOR_BGR2RGB)\n",
    "    input = transform(input).unsqueeze(0).to(device)\n",
    "    _, landmarks = plfd_backbone(input)\n",
    "    pre_landmark = landmarks[0]\n",
    "    pre_landmark = pre_landmark.cpu().detach().numpy().reshape(-1, 2) * [size, size]\n",
    "    for (x, y) in pre_landmark.astype(np.int32):\n",
    "        cv2.circle(img, (x1 + x, y1 + y), 1, (0, 0, 255))"
   ]
  },
  {
   "cell_type": "code",
   "execution_count": null,
   "metadata": {},
   "outputs": [],
   "source": [
    "plt.imshow(img)\n",
    "plt.title('my picture')\n",
    "plt.show()"
   ]
  },
  {
   "cell_type": "code",
   "execution_count": null,
   "metadata": {},
   "outputs": [],
   "source": []
  }
 ],
 "metadata": {
  "kernelspec": {
   "display_name": "Python 3",
   "language": "python",
   "name": "python3"
  },
  "language_info": {
   "codemirror_mode": {
    "name": "ipython",
    "version": 3
   },
   "file_extension": ".py",
   "mimetype": "text/x-python",
   "name": "python",
   "nbconvert_exporter": "python",
   "pygments_lexer": "ipython3",
   "version": "3.7.4"
  }
 },
 "nbformat": 4,
 "nbformat_minor": 4
}
